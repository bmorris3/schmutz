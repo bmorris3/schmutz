{
 "cells": [
  {
   "cell_type": "code",
   "execution_count": 1,
   "metadata": {},
   "outputs": [],
   "source": [
    "%matplotlib inline\n",
    "import numpy as np\n",
    "import matplotlib.pyplot as plt\n",
    "import astropy.units as u\n",
    "from astropy.time import Time"
   ]
  },
  {
   "cell_type": "code",
   "execution_count": 2,
   "metadata": {},
   "outputs": [],
   "source": [
    "from schmutz import trappist1, transit_duration"
   ]
  },
  {
   "cell_type": "code",
   "execution_count": 3,
   "metadata": {},
   "outputs": [],
   "source": [
    "from rms import Star, Planet, Spot, STSP"
   ]
  },
  {
   "cell_type": "code",
   "execution_count": 4,
   "metadata": {},
   "outputs": [],
   "source": [
    "spot_contrast = 0.25\n",
    "rotation_period = 3.3 * u.day\n",
    "planet = trappist1('b')\n",
    "planet.lam = 0\n",
    "planet.per_rot = rotation_period.value\n",
    "planet.b = np.cos(np.radians(planet.inc)) * planet.a\n",
    "planet.duration = transit_duration(planet)\n",
    "\n",
    "star = Star(u=[0.161, 0.208], rotation_period=rotation_period, \n",
    "            inc_stellar=90, spot_contrast=spot_contrast, \n",
    "            rho_s=51.1, planet=planet)"
   ]
  },
  {
   "cell_type": "code",
   "execution_count": null,
   "metadata": {},
   "outputs": [],
   "source": [
    "random_latitude = lambda: 180 * np.random.rand() - 90\n",
    "random_longitude = lambda: 360 * np.random.rand()\n",
    "# radius = np.arctan(np.radians(2)) # Solar-like spot case\n",
    "radius = np.arctan(np.radians(7)) # Giant spot case\n",
    "halfptp = 0.002433"
   ]
  },
  {
   "cell_type": "markdown",
   "metadata": {},
   "source": [
    "frequency of spot occultations vs spot size \n",
    "amplitude of spot occultations vs spot size "
   ]
  },
  {
   "cell_type": "code",
   "execution_count": null,
   "metadata": {},
   "outputs": [],
   "source": [
    "n_radii = 10\n",
    "n_contrasts = 10\n",
    "radii = np.arctan(np.radians(np.linspace(1.5, 10, n_radii)))\n",
    "contrasts = np.linspace(0.1, 0.9, n_contrasts)\n",
    "n_iterations = 100\n",
    "max_residuals = []\n",
    "median_residuals = []\n",
    "times = Time(np.arange(planet.t0 - transit_duration(planet)/2, \n",
    "                       planet.t0 + transit_duration(planet)/2, 1/60/24), format='jd')\n",
    "\n",
    "# Spotless light curve\n",
    "tiny_polar_spot = [Spot(89*u.deg, 0*u.deg, 0.00001)]\n",
    "with STSP(times, star, tiny_polar_spot, quiet=True) as stsp: \n",
    "    lc_nospots = stsp.generate_lightcurve(normalize_oot=True)\n",
    "\n",
    "n_significant = np.zeros((len(radii), len(contrasts)))\n",
    "n_occultations = np.zeros((len(radii), len(contrasts)))\n",
    "n_models = np.zeros((len(radii), len(contrasts)))\n",
    "\n",
    "n_iterations_completed = 0\n",
    "\n",
    "for j, spot_contrast in enumerate(contrasts):\n",
    "    star = Star(u=[0.161, 0.208], rotation_period=rotation_period, \n",
    "            inc_stellar=90, spot_contrast=spot_contrast, \n",
    "            rho_s=51.1, planet=planet)\n",
    "\n",
    "    for i, radius in enumerate(radii):\n",
    "        n_max_sn = 0\n",
    "        for _ in range(n_iterations):\n",
    "            spotted_area = 0\n",
    "            spots = []\n",
    "            while spotted_area < 0.08:\n",
    "                new_spot = Spot(random_latitude()*u.deg, random_longitude()*u.deg, radius)\n",
    "                spots.append(new_spot)\n",
    "                spotted_area = np.sum([s.radius**2 for s in spots])/4\n",
    "\n",
    "            with STSP(times, star, spots, quiet=True) as stsp: \n",
    "                lc = stsp.generate_lightcurve(normalize_oot=True)\n",
    "\n",
    "            if len(lc.fluxes) == len(lc_nospots.fluxes):\n",
    "                residuals = lc.fluxes - lc_nospots.fluxes\n",
    "\n",
    "                if np.nanmax(residuals) > 0:\n",
    "                    n_occultations[i, j] += 1\n",
    "\n",
    "                    if np.nanmax(residuals) > 2*halfptp: \n",
    "                        n_significant[i, j] += 1\n",
    "#     max_residuals.append(np.max(peak_residuals))\n",
    "#     median_residuals.append(np.median(peak_residuals))\n",
    "                n_models[i, j] += 1 "
   ]
  },
  {
   "cell_type": "code",
   "execution_count": null,
   "metadata": {},
   "outputs": [],
   "source": [
    "n_significant, n_occultations, n_models"
   ]
  },
  {
   "cell_type": "code",
   "execution_count": null,
   "metadata": {},
   "outputs": [],
   "source": [
    "# fig, ax = plt.subplots(2, 1, figsize=(4, 6), sharex=True)\n",
    "# ax[0].plot(radii, max_residuals)\n",
    "# ax[0].set(title='Max peak transit residual', ylabel='Relative Flux')\n",
    "# ax[1].plot(radii, median_residuals)\n",
    "# ax[1].set(title='Median peak transit residual', xlabel='$R_p/R_\\star$', ylabel='Relative Flux')"
   ]
  },
  {
   "cell_type": "code",
   "execution_count": null,
   "metadata": {},
   "outputs": [],
   "source": [
    "np.savetxt('outputs/radii.txt', radii)\n",
    "np.savetxt('outputs/contrasts.txt', contrasts)\n",
    "np.savetxt('outputs/n_significant.txt', n_significant)\n",
    "np.savetxt('outputs/n_occultations.txt', n_occultations)\n",
    "np.savetxt('outputs/n_models.txt', n_models)"
   ]
  },
  {
   "cell_type": "code",
   "execution_count": null,
   "metadata": {},
   "outputs": [],
   "source": []
  },
  {
   "cell_type": "code",
   "execution_count": null,
   "metadata": {},
   "outputs": [],
   "source": []
  }
 ],
 "metadata": {
  "kernelspec": {
   "display_name": "Python 3",
   "language": "python",
   "name": "python3"
  },
  "language_info": {
   "codemirror_mode": {
    "name": "ipython",
    "version": 3
   },
   "file_extension": ".py",
   "mimetype": "text/x-python",
   "name": "python",
   "nbconvert_exporter": "python",
   "pygments_lexer": "ipython3",
   "version": "3.5.4"
  }
 },
 "nbformat": 4,
 "nbformat_minor": 2
}
